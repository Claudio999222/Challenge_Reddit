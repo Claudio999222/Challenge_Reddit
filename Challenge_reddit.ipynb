{
 "cells": [
  {
   "cell_type": "code",
   "execution_count": 1,
   "id": "d560451d",
   "metadata": {},
   "outputs": [],
   "source": [
    "import numpy as np\n",
    "import pandas as pd \n",
    "import tensorflow as tf\n",
    "import re\n",
    "from sklearn.model_selection import train_test_split\n",
    "from matplotlib import pyplot as plt\n",
    "from tensorflow.keras.models import Sequential\n",
    "from tensorflow.keras.layers import Dense\n",
    "from tensorflow.keras.preprocessing.text import Tokenizer\n",
    "from tensorflow.keras.layers import Dense, LSTM, Embedding, Bidirectional, Conv1D, Masking, Flatten\n",
    "from tensorflow.keras.optimizers import Adam\n",
    "from tensorflow.keras.preprocessing.sequence import pad_sequences"
   ]
  },
  {
   "cell_type": "markdown",
   "id": "d445aedd-3b48-4f95-9d6d-50e12b661d60",
   "metadata": {},
   "source": [
    "#### Importo il dataset"
   ]
  },
  {
   "cell_type": "code",
   "execution_count": 2,
   "id": "b597167b",
   "metadata": {},
   "outputs": [],
   "source": [
    "file_train= pd.read_csv('df_train.csv')"
   ]
  },
  {
   "cell_type": "code",
   "execution_count": 3,
   "id": "ded5c9b7",
   "metadata": {},
   "outputs": [
    {
     "data": {
      "text/html": [
       "<div>\n",
       "<style scoped>\n",
       "    .dataframe tbody tr th:only-of-type {\n",
       "        vertical-align: middle;\n",
       "    }\n",
       "\n",
       "    .dataframe tbody tr th {\n",
       "        vertical-align: top;\n",
       "    }\n",
       "\n",
       "    .dataframe thead th {\n",
       "        text-align: right;\n",
       "    }\n",
       "</style>\n",
       "<table border=\"1\" class=\"dataframe\">\n",
       "  <thead>\n",
       "    <tr style=\"text-align: right;\">\n",
       "      <th></th>\n",
       "      <th>title</th>\n",
       "      <th>selftext</th>\n",
       "      <th>category_1</th>\n",
       "    </tr>\n",
       "  </thead>\n",
       "  <tbody>\n",
       "    <tr>\n",
       "      <th>0</th>\n",
       "      <td>I want my voice &amp;amp; recordings to sound like...</td>\n",
       "      <td>I'd like to record lines and calls for a pinba...</td>\n",
       "      <td>profession</td>\n",
       "    </tr>\n",
       "    <tr>\n",
       "      <th>1</th>\n",
       "      <td>Jaime Nava, spanish national team captain, pos...</td>\n",
       "      <td>\"Some links to spanish captain's opinion after...</td>\n",
       "      <td>sports</td>\n",
       "    </tr>\n",
       "    <tr>\n",
       "      <th>2</th>\n",
       "      <td>INAN for a social gathering website</td>\n",
       "      <td>I am building (yet another) social network web...</td>\n",
       "      <td>advice/question</td>\n",
       "    </tr>\n",
       "    <tr>\n",
       "      <th>3</th>\n",
       "      <td>WTW for when you're afraid to let yourself lik...</td>\n",
       "      <td>I automatically have to think of a justificati...</td>\n",
       "      <td>advice/question</td>\n",
       "    </tr>\n",
       "    <tr>\n",
       "      <th>4</th>\n",
       "      <td>song name?</td>\n",
       "      <td>\"i know the lyrics, but when i google it, i ca...</td>\n",
       "      <td>advice/question</td>\n",
       "    </tr>\n",
       "    <tr>\n",
       "      <th>...</th>\n",
       "      <td>...</td>\n",
       "      <td>...</td>\n",
       "      <td>...</td>\n",
       "    </tr>\n",
       "    <tr>\n",
       "      <th>226795</th>\n",
       "      <td>[English&amp;gt;German] Need help translating this...</td>\n",
       "      <td>Here is the text:&lt;lb&gt;&lt;lb&gt;Company shall be enti...</td>\n",
       "      <td>advice/question</td>\n",
       "    </tr>\n",
       "    <tr>\n",
       "      <th>226796</th>\n",
       "      <td>A question about if: stopping the code</td>\n",
       "      <td>\"So i have made this code&lt;lb&gt;&lt;lb&gt;    temperatu...</td>\n",
       "      <td>programming</td>\n",
       "    </tr>\n",
       "    <tr>\n",
       "      <th>226797</th>\n",
       "      <td>Does anyone else miss this subreddit pre Starboy?</td>\n",
       "      <td>Posts would be random cool shit, we would talk...</td>\n",
       "      <td>music</td>\n",
       "    </tr>\n",
       "    <tr>\n",
       "      <th>226798</th>\n",
       "      <td>Lorelai overreacting in 2x19</td>\n",
       "      <td>I'm rewatching the series and I'm up to the ep...</td>\n",
       "      <td>tv_show</td>\n",
       "    </tr>\n",
       "    <tr>\n",
       "      <th>226799</th>\n",
       "      <td>[Intro] From the ground down under</td>\n",
       "      <td>*Out of the blue [a fungi](https://www.reddit....</td>\n",
       "      <td>writing/stories</td>\n",
       "    </tr>\n",
       "  </tbody>\n",
       "</table>\n",
       "<p>226800 rows × 3 columns</p>\n",
       "</div>"
      ],
      "text/plain": [
       "                                                    title  \\\n",
       "0       I want my voice &amp; recordings to sound like...   \n",
       "1       Jaime Nava, spanish national team captain, pos...   \n",
       "2                     INAN for a social gathering website   \n",
       "3       WTW for when you're afraid to let yourself lik...   \n",
       "4                                              song name?   \n",
       "...                                                   ...   \n",
       "226795  [English&gt;German] Need help translating this...   \n",
       "226796             A question about if: stopping the code   \n",
       "226797  Does anyone else miss this subreddit pre Starboy?   \n",
       "226798                       Lorelai overreacting in 2x19   \n",
       "226799                 [Intro] From the ground down under   \n",
       "\n",
       "                                                 selftext       category_1  \n",
       "0       I'd like to record lines and calls for a pinba...       profession  \n",
       "1       \"Some links to spanish captain's opinion after...           sports  \n",
       "2       I am building (yet another) social network web...  advice/question  \n",
       "3       I automatically have to think of a justificati...  advice/question  \n",
       "4       \"i know the lyrics, but when i google it, i ca...  advice/question  \n",
       "...                                                   ...              ...  \n",
       "226795  Here is the text:<lb><lb>Company shall be enti...  advice/question  \n",
       "226796  \"So i have made this code<lb><lb>    temperatu...      programming  \n",
       "226797  Posts would be random cool shit, we would talk...            music  \n",
       "226798  I'm rewatching the series and I'm up to the ep...          tv_show  \n",
       "226799  *Out of the blue [a fungi](https://www.reddit....  writing/stories  \n",
       "\n",
       "[226800 rows x 3 columns]"
      ]
     },
     "execution_count": 3,
     "metadata": {},
     "output_type": "execute_result"
    }
   ],
   "source": [
    "file_train.shape\n",
    "file_train"
   ]
  },
  {
   "cell_type": "markdown",
   "id": "4e4aea72-6589-48ba-9312-cbbd53e28fad",
   "metadata": {},
   "source": [
    "#### Preprocessing e pulizia del testo "
   ]
  },
  {
   "cell_type": "code",
   "execution_count": 4,
   "id": "9bed851e",
   "metadata": {},
   "outputs": [],
   "source": [
    "# Unisco i file di delle colonne selftext & title\n",
    "file_train['text']= file_train['title']+ ' ' + file_train['selftext']"
   ]
  },
  {
   "cell_type": "code",
   "execution_count": 5,
   "id": "8346b1fa",
   "metadata": {},
   "outputs": [],
   "source": [
    "pattern = r'\\b[a-zA-Z0-9]\\b'\n",
    "file_train['text']= file_train['text'].apply(lambda x: re.sub(pattern, ' ', x))"
   ]
  },
  {
   "cell_type": "code",
   "execution_count": 6,
   "id": "171de202",
   "metadata": {},
   "outputs": [],
   "source": [
    "#Elimino le parole composte da 2 lettere\n",
    "pattern2 = r'\\b(?:\\d{2,}|\\b\\w{2}\\b|)\\b'\n",
    "file_train['text']= file_train['text'].apply(lambda x: re.sub(pattern2, ' ', x))"
   ]
  },
  {
   "cell_type": "code",
   "execution_count": 7,
   "id": "c4849602",
   "metadata": {},
   "outputs": [],
   "source": [
    "regex_caratteri_speciali = r'[^a-zA-Z0-9\\s]'\n",
    "regex_emoticon = '[^\\w\\s]'\n",
    "\n",
    "#Rimuovi i caratteri speciali ed emoticon dalla colonna\n",
    "file_train['text'] = file_train['text'].apply(lambda x: re.sub(regex_caratteri_speciali, ' ', str(x)))\n",
    "file_train['text'] = file_train['text'].apply(lambda x: re.sub(regex_emoticon, ' ', str(x)))"
   ]
  },
  {
   "cell_type": "code",
   "execution_count": 8,
   "id": "04975350",
   "metadata": {},
   "outputs": [],
   "source": [
    "# Elimino i spazi \n",
    "parole_da_eliminare2 = ['  ','   ','    ','     ','     ','       ']\n",
    "for parola in parole_da_eliminare2:\n",
    "    file_train['text'] = file_train['text'].str.replace(parola, ' ', regex=True)\n"
   ]
  },
  {
   "cell_type": "code",
   "execution_count": 9,
   "id": "683f6af3",
   "metadata": {},
   "outputs": [
    {
     "data": {
      "text/plain": [
       "0         want voice  amp  recordings sound  like Squawk...\n",
       "1         Jaime  Nava  spanish  national  team  captain ...\n",
       "2         INAN  for social  gathering  website  building...\n",
       "3         WTW  for  when  you afraid let  yourself  like...\n",
       "4         song  name  know  the  lyrics  but  when googl...\n",
       "                                ...                        \n",
       "226795    English German  Need  help  translating  this ...\n",
       "226796    question  about  stopping  the  code   have  m...\n",
       "226797    Does  anyone  else  miss  this  subreddit  pre...\n",
       "226798    Lorelai  overreacting 2x19  rewatching  the  s...\n",
       "226799    Intro  From  the  ground  down  under  Out the...\n",
       "Name: text, Length: 226800, dtype: object"
      ]
     },
     "execution_count": 9,
     "metadata": {},
     "output_type": "execute_result"
    }
   ],
   "source": [
    "file_train['text'] = file_train['text'].str.strip()\n",
    "file_train['text'] = file_train['text'].values.tolist()\n",
    "file_train['text']"
   ]
  },
  {
   "cell_type": "code",
   "execution_count": 10,
   "id": "6f0de412",
   "metadata": {},
   "outputs": [],
   "source": [
    "df_batch = file_train"
   ]
  },
  {
   "cell_type": "markdown",
   "id": "78ae9a2a-46b7-48a6-95ab-607653c3b243",
   "metadata": {},
   "source": [
    "#### Tokenizzazione delle categorie e del testo "
   ]
  },
  {
   "cell_type": "code",
   "execution_count": 12,
   "id": "c9b8b178-e90a-40e2-84dd-3e435bc48a10",
   "metadata": {},
   "outputs": [
    {
     "name": "stdout",
     "output_type": "stream",
     "text": [
      "[[0. 0. 0. 0. 0. 0. 1. 0. 0. 0. 0. 0. 0. 0.]\n",
      " [0. 0. 0. 0. 0. 0. 0. 0. 0. 0. 1. 0. 0. 0.]\n",
      " [1. 0. 0. 0. 0. 0. 0. 0. 0. 0. 0. 0. 0. 0.]\n",
      " [1. 0. 0. 0. 0. 0. 0. 0. 0. 0. 0. 0. 0. 0.]\n",
      " [1. 0. 0. 0. 0. 0. 0. 0. 0. 0. 0. 0. 0. 0.]]\n",
      "[[42, 680, 110, 5686, 398, 16, 38911, 2, 354, 3058, 653, 16, 802, 858, 2, 1205, 3, 23268, 547, 6, 42, 3058, 398, 16, 285, 23, 23268, 594, 143, 1, 580, 15439, 12, 723, 49, 23, 3, 165, 61, 37, 30, 660, 2439, 35, 3058, 653, 55, 21, 158, 26, 72, 23268, 2186, 890, 4141, 876, 4996, 14920, 2198, 10261, 2, 94, 426, 84, 1, 3058, 653, 55, 21, 409, 38911, 2, 354, 21, 57, 77, 72, 23268, 2186, 354, 1, 505], [14561, 40548, 2296, 1795, 284, 3270, 160, 796, 917, 2, 9077, 16450, 354, 63, 1, 120, 26, 1234, 2296, 3270, 765, 63, 1, 120, 2, 51, 9077, 16450, 354, 51, 2296, 375, 1, 33, 312, 17705, 542, 351, 20, 1, 1977, 160, 796, 917, 59, 128, 45, 14561, 40548, 44598, 4296, 4207, 741, 9792, 53, 7, 2296, 1795, 4296, 284, 14561, 40548, 254, 8056, 434, 1, 1657, 1168, 270, 2022, 434, 5784, 6, 14561, 11, 87, 279, 14561, 11, 87, 279, 5284, 1860, 105, 13585, 34, 818, 105, 14, 251, 28, 40, 9, 1184, 6804, 393, 26, 33, 15, 420, 53, 248, 11, 83, 2212, 1, 532, 4, 135, 150, 93, 132, 248, 245, 35, 34, 93, 1077, 120, 221, 6, 53, 2, 41, 20945, 99, 53, 2, 41, 538, 68, 538, 68, 4, 141, 640, 1, 4892, 37, 37, 30, 15, 11, 83, 354, 20, 1, 1924, 67, 354, 20, 67, 354, 29, 250, 1, 259, 6, 6, 54, 1, 284, 35, 34, 23, 1, 120, 413, 1664, 2897, 434, 2024, 93, 120, 2, 939, 7, 1, 455, 4, 39, 68, 689, 17, 190, 2307, 83, 2026, 270, 2022, 8124, 536, 1448, 21, 1119, 1, 606, 65, 32, 1, 606, 65, 6, 32, 22, 181, 735, 32, 6819, 248, 5284, 37, 42, 354, 20, 621, 214, 2, 351, 6, 37, 42, 152, 273, 1653, 2, 144, 68, 908, 2167, 105, 6, 3905, 2, 17548, 8274, 233, 259, 10490, 16450, 354, 59, 128, 45, 14561, 40548, 4296, 44598, 4207, 741, 44, 44, 214, 54, 20, 127, 157, 99, 41, 197, 40, 2404, 588, 30, 44, 214, 44, 214, 2, 551, 981, 9, 1, 455, 4, 21, 375, 68, 17, 68, 4736, 3, 3084, 6, 99, 41, 99, 5, 539, 385, 38, 90, 223, 4, 13, 83, 4, 270, 2022, 24, 536, 1448, 2, 1, 181, 735, 32, 6819, 101, 60, 1119, 6, 32, 22, 4, 270, 2022, 37, 156, 93, 553, 167, 53, 37, 156, 4, 509, 161, 161, 588, 2404, 2, 214, 74, 99, 30, 214, 188, 310, 161, 188, 38, 90, 223, 5, 35, 155, 34, 284, 2, 320, 1587, 83, 567, 4, 552, 655, 28, 104, 390, 2307], [4588, 3, 633, 5454, 459, 629, 279, 153, 633, 579, 459, 4, 7100, 633, 5454, 42, 1550, 237, 68, 4, 380, 7276, 2, 5454, 7, 230, 544, 3152, 127, 6, 597, 95, 8, 13, 1, 3592, 7425, 309, 1481], [3056, 3, 29, 8, 1358, 156, 945, 16, 108, 52, 27, 46, 60, 194, 1188, 1518, 9, 54, 14695, 3, 127, 16, 1119, 327, 129, 89, 92, 23, 70, 68, 25819, 452, 978, 187, 10725, 145, 4778, 1044, 2, 1917, 7, 26, 466, 25820, 2, 5076, 1064, 7810, 462, 165, 5292, 10, 8372, 115, 873, 2, 901, 9, 500, 12976, 2415, 1774, 2055, 70, 41, 14357, 2212, 3034, 17, 46, 60, 71, 238, 4117, 52, 1338, 26, 450, 12492, 11, 116, 22, 609, 3, 5, 450, 137, 11, 6, 96, 16, 22, 194], [288, 195, 30, 1, 1345, 6, 29, 321, 12, 92, 1, 1190, 288, 2782, 2926, 288, 2, 1, 1345, 403, 42, 8, 675, 780, 1321, 68, 16, 4, 11, 625, 116, 6, 1159, 28, 1, 1379, 308, 1345, 259, 3, 4, 288, 35, 1972, 600, 7, 428, 417, 2, 48, 1, 11781, 10, 1122, 84, 180, 48, 151, 116, 1, 288, 10, 720, 1232, 663]] 861\n",
      "(226800, 14)\n"
     ]
    }
   ],
   "source": [
    "num_max = 50000\n",
    "\n",
    "\n",
    "#Sfrutto il LabelEncoder di ScikitLearn per tokenizzare le classi\n",
    "le = LabelEncoder()\n",
    "categorie = le.fit_transform(df_batch['category_1'])\n",
    "categorie = tf.keras.utils.to_categorical(categorie, num_classes=14)\n",
    "\n",
    "#Tokenizzo i dati con il Tokenizer di Keras\n",
    "tokenizer = tf.keras.preprocessing.text.Tokenizer(num_words=num_max)\n",
    "tokenizer.fit_on_texts(df_batch['text'])\n",
    "parole = tokenizer.texts_to_sequences(df_batch['text'])\n",
    "\n",
    "max_len = 861\n",
    "\n",
    "\n",
    "print(categorie[:5])\n",
    "print(parole[:5],max_len)\n",
    "print(categorie.shape)\n"
   ]
  },
  {
   "cell_type": "code",
   "execution_count": 13,
   "id": "d7504665-0509-43d6-9d83-087615eb7633",
   "metadata": {},
   "outputs": [
    {
     "name": "stdout",
     "output_type": "stream",
     "text": [
      "226800\n"
     ]
    }
   ],
   "source": [
    "print(len(parole))"
   ]
  },
  {
   "cell_type": "code",
   "execution_count": 14,
   "id": "9135be0a-22a6-42ab-9c8c-3192d13ee611",
   "metadata": {},
   "outputs": [
    {
     "name": "stdout",
     "output_type": "stream",
     "text": [
      "Best  practice  for  storing  user  session  was  wondering  what  the  current  best  practices  are  for  storing  user  sessions  after  being  authenticated   seen number people  talk  about  using  contexts  but  since  experimental  still don want necessarily  put  all eggs that  basket   also  tried  simply  storing  state  and  passing   props  where  needed  but  that  got  messy  quickly  Right  now seem use  browser  Local  Storage solution  but  not  sure this the  best  approach   ultimately  there  best  practice for  this  currently  Thanks advance  for  any  help\n",
      "[132, 654, 3, 4797, 322, 1446, 10, 217, 15, 1, 372, 132, 3299, 13, 3, 4797, 322, 2807, 63, 91, 15043, 286, 350, 60, 354, 20, 107, 16308, 6, 103, 6103, 86, 37, 42, 2488, 199, 18, 4942, 4, 7011, 48, 179, 661, 4797, 486, 2, 2268, 4183, 78, 474, 6, 4, 82, 4605, 811, 99, 41, 261, 79, 1502, 458, 1199, 681, 6, 11, 116, 5, 1, 132, 1214, 2574, 22, 132, 654, 3, 5, 224, 84, 342, 3, 24, 49]\n"
     ]
    }
   ],
   "source": [
    "print(df_batch['text'][5])\n",
    "print(parole[5])"
   ]
  },
  {
   "cell_type": "markdown",
   "id": "d4d48676-b01e-4a78-88b1-d9d955ab8ce6",
   "metadata": {},
   "source": [
    "#### Aggiunta del Padding al testo"
   ]
  },
  {
   "cell_type": "code",
   "execution_count": 16,
   "id": "4727361c-ff99-48a1-9fb9-0dc73bb4f087",
   "metadata": {},
   "outputs": [
    {
     "name": "stdout",
     "output_type": "stream",
     "text": [
      "[    0     0     0     0     0     0     0     0     0     0     0     0\n",
      "     0     0     0     0     0     0     0     0     0     0     0     0\n",
      "     0     0     0     0     0     0     0     0     0     0     0     0\n",
      "     0     0     0     0     0     0     0     0     0     0     0     0\n",
      "     0     0     0     0     0     0     0     0     0     0     0     0\n",
      "     0     0     0     0     0     0     0     0     0     0     0     0\n",
      "     0     0     0     0     0     0     0     0     0     0     0     0\n",
      "     0     0     0     0     0     0     0     0     0     0     0     0\n",
      "     0     0     0     0     0     0     0     0     0     0     0     0\n",
      "     0     0     0     0     0     0     0     0     0     0     0     0\n",
      "     0     0     0     0     0     0     0     0     0     0     0     0\n",
      "     0     0     0     0     0     0     0     0     0     0     0     0\n",
      "     0     0     0     0     0     0     0     0     0     0     0     0\n",
      "     0     0     0     0     0     0     0     0     0     0     0     0\n",
      "     0     0     0     0     0     0     0     0     0     0     0     0\n",
      "     0     0     0     0     0     0     0     0     0     0     0     0\n",
      "     0     0     0     0     0     0     0     0     0     0     0     0\n",
      "     0     0     0     0     0     0     0     0     0     0     0     0\n",
      "     0     0     0     0     0     0     0     0     0     0     0     0\n",
      "     0     0     0     0     0     0     0     0     0     0     0     0\n",
      "     0     0     0     0     0     0     0     0     0     0     0     0\n",
      "     0     0     0     0     0     0     0     0     0     0     0     0\n",
      "     0     0     0     0     0     0     0     0     0     0     0     0\n",
      "     0     0     0     0     0     0     0     0     0     0     0     0\n",
      "     0     0     0     0     0     0     0     0     0     0     0     0\n",
      "     0     0     0     0     0     0     0     0     0     0     0     0\n",
      "     0     0     0     0     0     0     0     0     0     0     0     0\n",
      "     0     0     0     0     0     0     0     0     0     0     0     0\n",
      "     0     0     0     0     0     0     0     0     0     0     0     0\n",
      "     0     0     0     0     0     0     0     0     0     0     0     0\n",
      "     0     0     0     0     0     0     0     0     0     0     0     0\n",
      "     0     0     0     0     0     0     0     0     0     0     0     0\n",
      "     0     0     0     0     0     0     0     0     0     0     0     0\n",
      "     0     0     0     0     0     0     0     0     0     0     0     0\n",
      "     0     0     0     0     0     0     0     0     0     0     0     0\n",
      "     0     0     0     0     0     0     0     0     0     0     0     0\n",
      "     0     0     0     0     0     0     0     0     0     0     0     0\n",
      "     0     0     0     0     0     0     0     0     0     0     0     0\n",
      "     0     0     0     0     0     0     0     0     0     0     0     0\n",
      "     0     0     0     0     0     0     0     0     0     0     0     0\n",
      "     0     0     0     0     0     0     0     0     0     0     0     0\n",
      "     0     0     0     0     0     0     0     0     0     0     0     0\n",
      "     0     0     0     0     0     0     0     0     0     0     0     0\n",
      "     0     0     0     0     0     0     0     0     0     0     0     0\n",
      "     0     0     0     0     0     0     0     0     0     0     0     0\n",
      "     0     0     0     0     0     0     0     0     0     0     0     0\n",
      "     0     0     0     0     0     0     0     0     0     0     0     0\n",
      "     0     0     0     0     0     0     0     0     0     0     0     0\n",
      "     0     0     0     0     0     0     0     0     0     0     0     0\n",
      "     0     0     0     0     0     0     0     0     0     0     0     0\n",
      "     0     0     0     0     0     0     0     0     0     0     0     0\n",
      "     0     0     0     0     0     0     0     0     0     0     0     0\n",
      "     0     0     0     0     0     0     0     0     0     0     0     0\n",
      "     0     0     0     0     0     0     0     0     0     0     0     0\n",
      "     0     0     0     0     0     0     0     0     0     0     0     0\n",
      "     0     0     0     0     0     0     0     0     0     0     0     0\n",
      "     0     0     0     0     0     0     0     0     0     0     0     0\n",
      "     0     0     0     0     0     0     0     0     0     0     0     0\n",
      "     0     0     0     0     0     0     0     0     0     0     0     0\n",
      "     0     0     0     0     0     0     0     0     0     0     0     0\n",
      "     0     0     0     0     0     0     0     0     0     0     0     0\n",
      "     0     0     0     0     0     0     0     0     0     0     0     0\n",
      "     0     0     0     0     0     0     0     0     0     0     0     0\n",
      "     0     0     0     0     0     0     0     0     0     0     0     0\n",
      "     0     0     0     0     0     0     0     0     0     0     0   132\n",
      "   654     3  4797   322  1446    10   217    15     1   372   132  3299\n",
      "    13     3  4797   322  2807    63    91 15043   286   350    60   354\n",
      "    20   107 16308     6   103  6103    86    37    42  2488   199    18\n",
      "  4942     4  7011    48   179   661  4797   486     2  2268  4183    78\n",
      "   474     6     4    82  4605   811    99    41   261    79  1502   458\n",
      "  1199   681     6    11   116     5     1   132  1214  2574    22   132\n",
      "   654     3     5   224    84   342     3    24    49]\n",
      "\n"
     ]
    }
   ],
   "source": [
    "parole_inputs = pad_sequences(parole, maxlen=861)\n",
    "print(parole_inputs[5])\n",
    "print('')\n"
   ]
  },
  {
   "cell_type": "code",
   "execution_count": 17,
   "id": "260c7b30-cccb-4163-99cd-1635b868166b",
   "metadata": {},
   "outputs": [
    {
     "name": "stdout",
     "output_type": "stream",
     "text": [
      "(226800, 861)\n"
     ]
    }
   ],
   "source": [
    "print(parole_inputs.shape)"
   ]
  },
  {
   "cell_type": "markdown",
   "id": "18674956-4af8-4bbf-963e-29b7a5cc2bbe",
   "metadata": {},
   "source": [
    "#### Divisione del testo in Train (80% del dataset) e Test (20% del dataset)"
   ]
  },
  {
   "cell_type": "code",
   "execution_count": 18,
   "id": "e61f2a86-3a6f-47b2-82d2-40026bb8908a",
   "metadata": {},
   "outputs": [],
   "source": [
    "parole_train, parole_val, categorie_train, categorie_val = train_test_split(parole_inputs, categorie, test_size=0.2, random_state=42)"
   ]
  },
  {
   "cell_type": "markdown",
   "id": "d1617de9-4ee1-41a1-9a9f-a314c3a6443e",
   "metadata": {},
   "source": [
    "#### Creazione del Transformer e del Embedding"
   ]
  },
  {
   "cell_type": "code",
   "execution_count": 19,
   "id": "727fd39a-6df4-4912-a6e7-b0356ca02788",
   "metadata": {},
   "outputs": [],
   "source": [
    "from tensorflow.keras import layers\n",
    "class TransformerBlock(layers.Layer):\n",
    "    def __init__ (self, embed_dim, num_heads, ff_dim, rate=0.5):\n",
    "        super(TransformerBlock, self).__init__()\n",
    "        self.att = layers.MultiHeadAttention(num_heads=num_heads, key_dim = embed_dim)\n",
    "        self.ffn = keras.Sequential(\n",
    "            [layers.Dense(ff_dim, activation = 'relu'), layers.Dense(embed_dim),]\n",
    "        )\n",
    "        self.layernorm1 = layers.LayerNormalization(epsilon=1e-8)\n",
    "        self.layernorm2 = layers.LayerNormalization(epsilon=1e-8)\n",
    "        self.dropout1 = layers.Dropout(rate)\n",
    "        self.dropout2 = layers.Dropout(rate)\n",
    "\n",
    "    def call(self, inputs, training):\n",
    "        attn_output = self.att(inputs, inputs)\n",
    "        attn_output = self.dropout1(attn_output, training= training)\n",
    "        out1= self.layernorm1(inputs + attn_output)\n",
    "        ffn_output = self.ffn(out1)\n",
    "        ffn_output = self.dropout2(ffn_output, training = training)\n",
    "        return self.layernorm2(out1 + ffn_output)\n",
    "\n",
    "class TokenAndPositionEmbedding(layers.Layer):\n",
    "    def __init__(self, max_len, vocab_size, embed_dim):\n",
    "        super(TokenAndPositionEmbedding, self).__init__()\n",
    "        self.token_emb = layers.Embedding(input_dim = vocab_size, output_dim= embed_dim)\n",
    "        self.pos_emb = layers.Embedding(input_dim= max_len, output_dim = embed_dim)\n",
    "\n",
    "    def call(self, x):\n",
    "        maxlen = tf.shape(x)[-1]\n",
    "        positions = tf.range(start=0, limit=max_len, delta=1)\n",
    "        positions= self.pos_emb(positions)\n",
    "        x = self.token_emb(x)\n",
    "        return x + positions"
   ]
  },
  {
   "cell_type": "markdown",
   "id": "020cfea1-4776-4853-bee8-317ddc207b7d",
   "metadata": {},
   "source": [
    "#### Scrittura del'architettura e compilazione del modello "
   ]
  },
  {
   "cell_type": "code",
   "execution_count": 23,
   "id": "c8dc5c19-02be-4b7f-af80-7feff429f229",
   "metadata": {},
   "outputs": [],
   "source": [
    "from tensorflow import keras \n",
    "embed_dim = 50\n",
    "num_heads = 1\n",
    "ff_dim = 512\n",
    "vocab_size = 50000\n",
    "\n",
    "inputs = layers.Input(max_len,)\n",
    "x = TokenAndPositionEmbedding(max_len, vocab_size, embed_dim)(inputs)\n",
    "x = TransformerBlock(embed_dim, num_heads, ff_dim)(x)\n",
    "x = layers.GlobalAveragePooling1D()(x)\n",
    "x = layers.Dropout(0.5)(x)\n",
    "x = layers.Dense(ff_dim, activation='swish')(x)\n",
    "x = layers.Dropout(0.5)(x)\n",
    "outputs = layers.Dense(14, activation = 'softmax')(x)\n",
    "\n",
    "model = keras.Model(inputs=inputs, outputs= outputs)"
   ]
  },
  {
   "cell_type": "code",
   "execution_count": 24,
   "id": "a3c9751a-95d9-452f-9f41-af021b21b031",
   "metadata": {},
   "outputs": [],
   "source": [
    "model.compile(optimizer = Adam(learning_rate=0.001) , loss=tf.keras.losses.CategoricalCrossentropy(), metrics=tf.keras.metrics.CategoricalAccuracy())"
   ]
  },
  {
   "cell_type": "markdown",
   "id": "353eb292-d192-4924-a78a-ee4c7a2fddf2",
   "metadata": {},
   "source": [
    "#### Addestramento del modello "
   ]
  },
  {
   "cell_type": "code",
   "execution_count": 25,
   "id": "85db510f-7ba3-42c4-8c0a-c1b74cb481c5",
   "metadata": {},
   "outputs": [
    {
     "name": "stdout",
     "output_type": "stream",
     "text": [
      "Epoch 1/5\n",
      "7258/7258 [==============================] - 4549s 626ms/step - loss: 1.1193 - categorical_accuracy: 0.6519 - val_loss: 0.7532 - val_categorical_accuracy: 0.8206\n",
      "Epoch 2/5\n",
      "7258/7258 [==============================] - 4729s 652ms/step - loss: 0.5347 - categorical_accuracy: 0.8545 - val_loss: 0.6685 - val_categorical_accuracy: 0.8342\n",
      "Epoch 3/5\n",
      "7258/7258 [==============================] - 4619s 636ms/step - loss: 0.3966 - categorical_accuracy: 0.8937 - val_loss: 0.6652 - val_categorical_accuracy: 0.8457\n",
      "Epoch 4/5\n",
      "7258/7258 [==============================] - 4782s 659ms/step - loss: 0.3001 - categorical_accuracy: 0.9203 - val_loss: 0.7906 - val_categorical_accuracy: 0.8454\n",
      "Epoch 5/5\n",
      "7258/7258 [==============================] - 4794s 660ms/step - loss: 0.2341 - categorical_accuracy: 0.9375 - val_loss: 0.8221 - val_categorical_accuracy: 0.8404\n"
     ]
    }
   ],
   "source": [
    "history = model.fit(\n",
    "    parole_train,\n",
    "    categorie_train,\n",
    "    batch_size = 25,\n",
    "    epochs= 5,\n",
    "    validation_data = (parole_val, categorie_val)\n",
    ")"
   ]
  },
  {
   "cell_type": "markdown",
   "id": "0f30a213-7740-4c62-86d6-78d5cd00dee1",
   "metadata": {},
   "source": [
    "#### Risultati di addestramento "
   ]
  },
  {
   "cell_type": "code",
   "execution_count": 27,
   "id": "e8d01e21",
   "metadata": {},
   "outputs": [
    {
     "name": "stdout",
     "output_type": "stream",
     "text": [
      "5670/5670 [==============================] - 1754s 309ms/step - loss: 0.1347 - categorical_accuracy: 0.9657\n",
      "[0.1346626579761505, 0.9656911492347717]\n",
      "['loss', 'categorical_accuracy']\n",
      "test metrics: loss 0.1347, categorical_accuracy 96.57%\n"
     ]
    }
   ],
   "source": [
    "test_score = model.evaluate(parole_train, categorie_train)\n",
    "print(test_score)\n",
    "print(model.metrics_names)\n",
    "print('test metrics: {} {:.4f}, {} {:.2f}%'.format(\n",
    "    model.metrics_names[0],\n",
    "    test_score[0],\n",
    "    model.metrics_names[1],\n",
    "    test_score[1] * 100\n",
    ") \n",
    "     )"
   ]
  },
  {
   "cell_type": "code",
   "execution_count": 33,
   "id": "1719a8aa-7b71-44b6-a9a0-dfa64208ce72",
   "metadata": {},
   "outputs": [
    {
     "data": {
      "image/png": "[encoded data removed]",
      "text/plain": [
       "<Figure size 1800x400 with 1 Axes>"
      ]
     },
     "metadata": {},
     "output_type": "display_data"
    },
    {
     "data": {
      "image/png": "[encoded data removed]",
      "text/plain": [
       "<Figure size 1800x400 with 1 Axes>"
      ]
     },
     "metadata": {},
     "output_type": "display_data"
    }
   ],
   "source": [
    "plt.figure(figsize=(18, 4))\n",
    "plt.plot(history.history['loss'], label='Loss')\n",
    "plt.plot(history.history['val_loss'], label='Val_Loss')\n",
    "plt.legend()\n",
    "plt.show()\n",
    "\n",
    "plt.figure(figsize=(18, 4))\n",
    "plt.plot(history.history['categorical_accuracy'], label='Accurcy')\n",
    "plt.plot(history.history['val_categorical_accuracy'], label='Val_Accuracy')\n",
    "plt.legend()\n",
    "plt.show()"
   ]
  },
  {
   "cell_type": "markdown",
   "id": "5aa77337-5724-4d8c-a69c-3915b37bb7d1",
   "metadata": {},
   "source": [
    "#### Importo il dataset di test per effettuare le previsioni"
   ]
  },
  {
   "cell_type": "code",
   "execution_count": 34,
   "id": "a06d4444-2605-42d4-a4db-1cf1b563fab7",
   "metadata": {},
   "outputs": [
    {
     "data": {
      "text/html": [
       "<div>\n",
       "<style scoped>\n",
       "    .dataframe tbody tr th:only-of-type {\n",
       "        vertical-align: middle;\n",
       "    }\n",
       "\n",
       "    .dataframe tbody tr th {\n",
       "        vertical-align: top;\n",
       "    }\n",
       "\n",
       "    .dataframe thead th {\n",
       "        text-align: right;\n",
       "    }\n",
       "</style>\n",
       "<table border=\"1\" class=\"dataframe\">\n",
       "  <thead>\n",
       "    <tr style=\"text-align: right;\">\n",
       "      <th></th>\n",
       "      <th>title</th>\n",
       "      <th>selftext</th>\n",
       "    </tr>\n",
       "  </thead>\n",
       "  <tbody>\n",
       "    <tr>\n",
       "      <th>0</th>\n",
       "      <td>[PI]Of Supreme Importance</td>\n",
       "      <td>\"\"\"My... what?\"\"&lt;lb&gt;&lt;lb&gt;\"\"Zombie survival plan...</td>\n",
       "    </tr>\n",
       "    <tr>\n",
       "      <th>1</th>\n",
       "      <td>“Frankly there is absolutely no collusion…Virt...</td>\n",
       "      <td>\"Quote in full:&lt;lb&gt;&lt;lb&gt;\"\"Frankly there is abso...</td>\n",
       "    </tr>\n",
       "    <tr>\n",
       "      <th>2</th>\n",
       "      <td>Hello everyone.. Can you help me to fill this ...</td>\n",
       "      <td>So, I have an assignment to write an essay abo...</td>\n",
       "    </tr>\n",
       "    <tr>\n",
       "      <th>3</th>\n",
       "      <td>Need some plex help for ultraseedbox</td>\n",
       "      <td>\"Hello,&lt;lb&gt;I wanted to reach out to reddit for...</td>\n",
       "    </tr>\n",
       "    <tr>\n",
       "      <th>4</th>\n",
       "      <td>When should you give up?</td>\n",
       "      <td>Is there a point when you just know bass (or a...</td>\n",
       "    </tr>\n",
       "    <tr>\n",
       "      <th>...</th>\n",
       "      <td>...</td>\n",
       "      <td>...</td>\n",
       "    </tr>\n",
       "    <tr>\n",
       "      <th>25195</th>\n",
       "      <td>Just whining + maybe I‘m just lesbian idk + ho...</td>\n",
       "      <td>Hey there, &lt;lb&gt;sorry in advance, I can‘t help ...</td>\n",
       "    </tr>\n",
       "    <tr>\n",
       "      <th>25196</th>\n",
       "      <td>Specific Tourist outfit.</td>\n",
       "      <td>As I’ve written here before I will be spending...</td>\n",
       "    </tr>\n",
       "    <tr>\n",
       "      <th>25197</th>\n",
       "      <td>What is the story behind McAdoo?</td>\n",
       "      <td>Everyone in the warriors bench has either pote...</td>\n",
       "    </tr>\n",
       "    <tr>\n",
       "      <th>25198</th>\n",
       "      <td>Just a few noob questions</td>\n",
       "      <td>Please forgive poor formatting I'm on mobile.&lt;...</td>\n",
       "    </tr>\n",
       "    <tr>\n",
       "      <th>25199</th>\n",
       "      <td>What do you guys like to watch on youtube / in...</td>\n",
       "      <td>hi there,&lt;lb&gt;I would love to know what you guy...</td>\n",
       "    </tr>\n",
       "  </tbody>\n",
       "</table>\n",
       "<p>25200 rows × 2 columns</p>\n",
       "</div>"
      ],
      "text/plain": [
       "                                                   title  \\\n",
       "0                              [PI]Of Supreme Importance   \n",
       "1      “Frankly there is absolutely no collusion…Virt...   \n",
       "2      Hello everyone.. Can you help me to fill this ...   \n",
       "3                   Need some plex help for ultraseedbox   \n",
       "4                               When should you give up?   \n",
       "...                                                  ...   \n",
       "25195  Just whining + maybe I‘m just lesbian idk + ho...   \n",
       "25196                           Specific Tourist outfit.   \n",
       "25197                   What is the story behind McAdoo?   \n",
       "25198                          Just a few noob questions   \n",
       "25199  What do you guys like to watch on youtube / in...   \n",
       "\n",
       "                                                selftext  \n",
       "0      \"\"\"My... what?\"\"<lb><lb>\"\"Zombie survival plan...  \n",
       "1      \"Quote in full:<lb><lb>\"\"Frankly there is abso...  \n",
       "2      So, I have an assignment to write an essay abo...  \n",
       "3      \"Hello,<lb>I wanted to reach out to reddit for...  \n",
       "4      Is there a point when you just know bass (or a...  \n",
       "...                                                  ...  \n",
       "25195  Hey there, <lb>sorry in advance, I can‘t help ...  \n",
       "25196  As I’ve written here before I will be spending...  \n",
       "25197  Everyone in the warriors bench has either pote...  \n",
       "25198  Please forgive poor formatting I'm on mobile.<...  \n",
       "25199  hi there,<lb>I would love to know what you guy...  \n",
       "\n",
       "[25200 rows x 2 columns]"
      ]
     },
     "execution_count": 34,
     "metadata": {},
     "output_type": "execute_result"
    }
   ],
   "source": [
    "input_test = pd.read_csv('df_test.csv')\n",
    "input_test"
   ]
  },
  {
   "cell_type": "markdown",
   "id": "6c988baa-4fff-480f-a1ec-541d31c78c46",
   "metadata": {},
   "source": [
    "#### Effettuo lo stesso preprocessing dei dati effetuato sul dataset di train "
   ]
  },
  {
   "cell_type": "code",
   "execution_count": 36,
   "id": "5f8d6e59-d4da-410b-98c4-161ead7f11a4",
   "metadata": {},
   "outputs": [],
   "source": [
    "# Unisco i file di delle colonne selftext & title\n",
    "test= pd.DataFrame({\n",
    "})\n",
    "test['text']= input_test['title']+ ' ' + input_test['selftext']"
   ]
  },
  {
   "cell_type": "code",
   "execution_count": 37,
   "id": "d9dab749-1101-4997-8939-b7ddde0dbe20",
   "metadata": {},
   "outputs": [],
   "source": [
    "pattern = r'\\b[a-zA-Z0-9]\\b'\n",
    "test['text']= test['text'].apply(lambda x: re.sub(pattern, ' ', x))"
   ]
  },
  {
   "cell_type": "code",
   "execution_count": 38,
   "id": "de025ada-3b5d-4195-9b6b-979822b540f9",
   "metadata": {},
   "outputs": [],
   "source": [
    "#Elimino le parole composte da 2 lettere\n",
    "pattern2 = r'\\b(?:\\d{2,}|\\b\\w{2}\\b|)\\b'\n",
    "test['text']= test['text'].apply(lambda x: re.sub(pattern2, ' ', x))"
   ]
  },
  {
   "cell_type": "code",
   "execution_count": 39,
   "id": "b7ed40ee-d40f-4fb4-a564-ea898c2cf09b",
   "metadata": {},
   "outputs": [],
   "source": [
    "regex_caratteri_speciali = r'[^a-zA-Z0-9\\s]'  \n",
    "regex_emoticon = '[^\\w\\s]' \n",
    "\n",
    "#Rimuovi i caratteri speciali ed emoticon dalla colonna\n",
    "test['text'] = test['text'].apply(lambda x: re.sub(regex_caratteri_speciali, ' ', str(x)))\n",
    "test['text'] = test['text'].apply(lambda x: re.sub(regex_emoticon, ' ', str(x)))"
   ]
  },
  {
   "cell_type": "code",
   "execution_count": 40,
   "id": "d80758ba-1a50-49a5-9712-0fadabd937bd",
   "metadata": {},
   "outputs": [],
   "source": [
    "# Elimino i spazi \n",
    "parole_da_eliminare2 = ['  ','   ','    ','     ','     ','       ']\n",
    "for parola in parole_da_eliminare2:\n",
    "    test['text'] = test['text'].str.replace(parola, ' ', regex=True)"
   ]
  },
  {
   "cell_type": "code",
   "execution_count": 41,
   "id": "a7c0f5d1-e7f7-4973-8cfc-f84d6a33d679",
   "metadata": {},
   "outputs": [
    {
     "data": {
      "text/plain": [
       "0        Supreme  Importance  what Zombie  survival  pl...\n",
       "1        Frankly  there absolutely collusion  Virtually...\n",
       "2        Hello  everyone Can  you  help   fill  this  q...\n",
       "3        Need  some  plex  help  for  ultraseedbox  Hel...\n",
       "4        When  should  you  give   there point  when  y...\n",
       "                               ...                        \n",
       "25195    Just  whining maybe  just  lesbian  idk how  d...\n",
       "25196    Specific  Tourist  outfit  written  here  befo...\n",
       "25197    What the  story  behind  McAdoo  Everyone the ...\n",
       "25198    Just few  noob  questions  Please  forgive  po...\n",
       "25199    What you  guys  like watch youtube instagram t...\n",
       "Name: text, Length: 25200, dtype: object"
      ]
     },
     "execution_count": 41,
     "metadata": {},
     "output_type": "execute_result"
    }
   ],
   "source": [
    "test['text'] = test['text'].str.strip()\n",
    "test['text'] = test['text'].values.tolist()\n",
    "test['text']"
   ]
  },
  {
   "cell_type": "code",
   "execution_count": 42,
   "id": "cebec2d9-5dad-4528-b624-1404c3255904",
   "metadata": {},
   "outputs": [],
   "source": []
  },
  {
   "cell_type": "code",
   "execution_count": 44,
   "id": "edeafe2b-d357-4595-a341-19823468f25e",
   "metadata": {},
   "outputs": [
    {
     "name": "stdout",
     "output_type": "stream",
     "text": [
      "[[0. 0. 0. 0. 0. 0. 1. 0. 0. 0. 0. 0. 0. 0.]\n",
      " [0. 0. 0. 0. 0. 0. 0. 0. 0. 0. 1. 0. 0. 0.]\n",
      " [1. 0. 0. 0. 0. 0. 0. 0. 0. 0. 0. 0. 0. 0.]\n",
      " [1. 0. 0. 0. 0. 0. 0. 0. 0. 0. 0. 0. 0. 0.]\n",
      " [1. 0. 0. 0. 0. 0. 0. 0. 0. 0. 0. 0. 0. 0.]]\n",
      "[[42, 680, 110, 5686, 398, 16, 38911, 2, 354, 3058, 653, 16, 802, 858, 2, 1205, 3, 23268, 547, 6, 42, 3058, 398, 16, 285, 23, 23268, 594, 143, 1, 580, 15439, 12, 723, 49, 23, 3, 165, 61, 37, 30, 660, 2439, 35, 3058, 653, 55, 21, 158, 26, 72, 23268, 2186, 890, 4141, 876, 4996, 14920, 2198, 10261, 2, 94, 426, 84, 1, 3058, 653, 55, 21, 409, 38911, 2, 354, 21, 57, 77, 72, 23268, 2186, 354, 1, 505], [14561, 40548, 2296, 1795, 284, 3270, 160, 796, 917, 2, 9077, 16450, 354, 63, 1, 120, 26, 1234, 2296, 3270, 765, 63, 1, 120, 2, 51, 9077, 16450, 354, 51, 2296, 375, 1, 33, 312, 17705, 542, 351, 20, 1, 1977, 160, 796, 917, 59, 128, 45, 14561, 40548, 44598, 4296, 4207, 741, 9792, 53, 7, 2296, 1795, 4296, 284, 14561, 40548, 254, 8056, 434, 1, 1657, 1168, 270, 2022, 434, 5784, 6, 14561, 11, 87, 279, 14561, 11, 87, 279, 5284, 1860, 105, 13585, 34, 818, 105, 14, 251, 28, 40, 9, 1184, 6804, 393, 26, 33, 15, 420, 53, 248, 11, 83, 2212, 1, 532, 4, 135, 150, 93, 132, 248, 245, 35, 34, 93, 1077, 120, 221, 6, 53, 2, 41, 20945, 99, 53, 2, 41, 538, 68, 538, 68, 4, 141, 640, 1, 4892, 37, 37, 30, 15, 11, 83, 354, 20, 1, 1924, 67, 354, 20, 67, 354, 29, 250, 1, 259, 6, 6, 54, 1, 284, 35, 34, 23, 1, 120, 413, 1664, 2897, 434, 2024, 93, 120, 2, 939, 7, 1, 455, 4, 39, 68, 689, 17, 190, 2307, 83, 2026, 270, 2022, 8124, 536, 1448, 21, 1119, 1, 606, 65, 32, 1, 606, 65, 6, 32, 22, 181, 735, 32, 6819, 248, 5284, 37, 42, 354, 20, 621, 214, 2, 351, 6, 37, 42, 152, 273, 1653, 2, 144, 68, 908, 2167, 105, 6, 3905, 2, 17548, 8274, 233, 259, 10490, 16450, 354, 59, 128, 45, 14561, 40548, 4296, 44598, 4207, 741, 44, 44, 214, 54, 20, 127, 157, 99, 41, 197, 40, 2404, 588, 30, 44, 214, 44, 214, 2, 551, 981, 9, 1, 455, 4, 21, 375, 68, 17, 68, 4736, 3, 3084, 6, 99, 41, 99, 5, 539, 385, 38, 90, 223, 4, 13, 83, 4, 270, 2022, 24, 536, 1448, 2, 1, 181, 735, 32, 6819, 101, 60, 1119, 6, 32, 22, 4, 270, 2022, 37, 156, 93, 553, 167, 53, 37, 156, 4, 509, 161, 161, 588, 2404, 2, 214, 74, 99, 30, 214, 188, 310, 161, 188, 38, 90, 223, 5, 35, 155, 34, 284, 2, 320, 1587, 83, 567, 4, 552, 655, 28, 104, 390, 2307], [4588, 3, 633, 5454, 459, 629, 279, 153, 633, 579, 459, 4, 7100, 633, 5454, 42, 1550, 237, 68, 4, 380, 7276, 2, 5454, 7, 230, 544, 3152, 127, 6, 597, 95, 8, 13, 1, 3592, 7425, 309, 1481], [3056, 3, 29, 8, 1358, 156, 945, 16, 108, 52, 27, 46, 60, 194, 1188, 1518, 9, 54, 14695, 3, 127, 16, 1119, 327, 129, 89, 92, 23, 70, 68, 25819, 452, 978, 187, 10725, 145, 4778, 1044, 2, 1917, 7, 26, 466, 25820, 2, 5076, 1064, 7810, 462, 165, 5292, 10, 8372, 115, 873, 2, 901, 9, 500, 12976, 2415, 1774, 2055, 70, 41, 14357, 2212, 3034, 17, 46, 60, 71, 238, 4117, 52, 1338, 26, 450, 12492, 11, 116, 22, 609, 3, 5, 450, 137, 11, 6, 96, 16, 22, 194], [288, 195, 30, 1, 1345, 6, 29, 321, 12, 92, 1, 1190, 288, 2782, 2926, 288, 2, 1, 1345, 403, 42, 8, 675, 780, 1321, 68, 16, 4, 11, 625, 116, 6, 1159, 28, 1, 1379, 308, 1345, 259, 3, 4, 288, 35, 1972, 600, 7, 428, 417, 2, 48, 1, 11781, 10, 1122, 84, 180, 48, 151, 116, 1, 288, 10, 720, 1232, 663]] 861\n"
     ]
    }
   ],
   "source": [
    "tokenizer = tf.keras.preprocessing.text.Tokenizer(num_words=num_max)\n",
    "tokenizer.fit_on_texts(test['text'])\n",
    "parole_test = tokenizer.texts_to_sequences(test['text'])\n",
    "\n",
    "max_len = 861\n",
    "\n",
    "print(categorie[:5])\n",
    "print(parole[:5],max_len)"
   ]
  },
  {
   "cell_type": "code",
   "execution_count": 45,
   "id": "c2e6319c-3464-4a5e-b591-e794bd1c7123",
   "metadata": {},
   "outputs": [
    {
     "name": "stdout",
     "output_type": "stream",
     "text": [
      "[    0     0     0     0     0     0     0     0     0     0     0     0\n",
      "     0     0     0     0     0     0     0     0     0     0     0     0\n",
      "     0     0     0     0     0     0     0     0     0     0     0     0\n",
      "     0     0     0     0     0     0     0     0     0     0     0     0\n",
      "     0     0     0     0     0     0     0     0     0     0     0     0\n",
      "     0     0     0     0     0     0     0     0     0     0     0     0\n",
      "     0     0     0     0     0     0     0     0     0     0     0     0\n",
      "     0     0     0     0     0     0     0     0     0     0     0     0\n",
      "     0     0     0     0     0     0     0     0     0     0     0     0\n",
      "     0     0     0     0     0     0     0     0     0     0     0     0\n",
      "     0     0     0     0     0     0     0     0     0     0     0     0\n",
      "     0     0     0     0     0     0     0     0     0     0     0     0\n",
      "     0     0     0     0     0     0     0     0     0     0     0     0\n",
      "     0     0     0     0     0     0     0     0     0     0     0     0\n",
      "     0     0     0     0     0     0     0     0     0     0     0     0\n",
      "     0     0     0     0     0     0     0     0     0     0     0     0\n",
      "     0     0     0     0     0     0     0     0     0     0     0     0\n",
      "     0     0     0     0     0     0     0     0     0     0     0     0\n",
      "     0     0     0     0     0     0     0     0     0     0     0     0\n",
      "     0     0     0     0     0     0     0     0     0     0     0     0\n",
      "     0     0     0     0     0     0     0     0     0     0     0     0\n",
      "     0     0     0     0     0     0     0     0     0     0     0     0\n",
      "     0     0     0     0     0     0     0     0     0     0     0     0\n",
      "     0     0     0     0     0     0     0     0     0     0     0     0\n",
      "     0     0     0     0     0     0     0     0     0     0     0     0\n",
      "     0     0     0     0     0     0     0     0     0     0     0     0\n",
      "     0     0     0     0     0     0     0     0     0     0     0     0\n",
      "     0     0     0     0     0     0     0     0     0     0     0     0\n",
      "     0     0     0     0     0     0     0     0     0     0     0     0\n",
      "     0     0     0     0     0     0     0     0     0     0     0     0\n",
      "     0     0     0     0     0     0     0     0     0     0     0     0\n",
      "     0     0     0     0     0     0     0     0     0     0     0     0\n",
      "     0     0     0     0     0     0     0     0     0     0     0     0\n",
      "     0     0     0     0     0     0     0     0     0     0     0     0\n",
      "     0     0     0     0     0     0     0     0     0     0     0     0\n",
      "     0     0     0     0     0     0     0     0     0     0     0     0\n",
      "     0     0     0     0     0     0     0     0     0     0     0     0\n",
      "     0     0     0     0     0     0     0     0     0     0     0     0\n",
      "     0     0     0     0     0     0     0     0     0     0     0     0\n",
      "     0     0     0     0     0     0     0     0     0     0     0     0\n",
      "     0     0     0     0     0     0     0     0     0     0     0     0\n",
      "     0     0     0     0     0     0     0     0     0     0     0     0\n",
      "     0     0     0     0     0     0     0     0     0     0     0     0\n",
      "     0     0     0     0     0     0     0     0     0     0     0     0\n",
      "     0     0     0     0     0     0     0     0     0     0     0     0\n",
      "     0     0     0     0     0     0     0     0     0     0     0     0\n",
      "     0     0     0     0     0     0     0     0     0     0     0     0\n",
      "     0     0     0     0     0     0     0     0     0     0     0     0\n",
      "     0     0     0     0     0     0     0     0     0     0     0     0\n",
      "     0     0     0     0     0     0     0     0     0     0     0     0\n",
      "     0     0     0     0     0     0     0     0     0     0     0     0\n",
      "     0     0     0     0     0     0     0     0     0     0     0     0\n",
      "     0     0     0     0     0     0     0     0     0     0     0     0\n",
      "     0     0     0     0     0     0     0     0     0     0     0     0\n",
      "     0     0     0     0     0     0     0     0     0     0     0     0\n",
      "     0     0     0     0     0     0     0     0     0     0     0     0\n",
      "     0     0     0     0     0     0     0     0     0     0     0     0\n",
      "     0     0     0     0     0     0     0     0     0     0     0     0\n",
      "     0     0     0     0     0     0     0     0     0     0     0     0\n",
      "     0     0     0     0     0     0     0     0     0     0     0     0\n",
      "     0     0     0     0     0     0     0     0     0     0     0     0\n",
      "     0     0     0     0     0     0     0     0     0     0     0     0\n",
      "     0     0     0     0     0     0     0     0     0     0     0     0\n",
      "     0     0     0     0     0     0     0     0     0     0     0     0\n",
      "     0     0     0     0     0     0     0     0     0     0     0     0\n",
      "     0     0     0     0     0     0     0     0     0     0     0     0\n",
      "     0     0     0     0     0     0     0     0     0     0     0     0\n",
      "     0     0     0     0     0     0     0     0     0     0     0     0\n",
      "     0     0     0     0 15320  4923   230   131   996    87    62    30\n",
      "    26   446    67 10601     1   418   481   759     1  4923   230     3\n",
      " 15320  3400    11   236   245   241   114     5   230   671   673   397\n",
      "   137   117   441    24   132   580     3  1245    85]\n",
      "\n"
     ]
    }
   ],
   "source": [
    "parole_inputs = pad_sequences(parole_test, maxlen=861)\n",
    "print(parole_inputs[18])\n",
    "print('')"
   ]
  },
  {
   "cell_type": "markdown",
   "id": "3f0078d1-121f-408d-8f47-6608bbe7ec9d",
   "metadata": {},
   "source": [
    "#### Creo una nuova colonna nel dataset input_test con le predizioni del modello e salvo il .csv "
   ]
  },
  {
   "cell_type": "code",
   "execution_count": 53,
   "id": "4e893281-f318-4bf6-b551-aa98195e0853",
   "metadata": {},
   "outputs": [
    {
     "name": "stdout",
     "output_type": "stream",
     "text": [
      "788/788 [==============================] - 247s 313ms/step\n"
     ]
    }
   ],
   "source": [
    "input_test['predictions'] = np.expand_dims(np.argmax(model.predict(parole_inputs), axis=1), axis=-1)\n",
    "input_test['predictions'] = le.inverse_transform(input_test['predictions'])\n"
   ]
  },
  {
   "cell_type": "code",
   "execution_count": 54,
   "id": "4f83c2a7-e7d6-4663-ad98-69487cbac97a",
   "metadata": {},
   "outputs": [],
   "source": [
    "import os as os\n",
    "filenamepath = os.path.abspath(os.path.join(r'C:\\Users\\claud\\Desktop\\Python\\reddit', 'submission.csv'))\n",
    "input_test.to_csv(filenamepath, index=False)"
   ]
  },
  {
   "cell_type": "markdown",
   "id": "4ac8c557-a9bd-4f63-be2e-b2fccf2eaaa6",
   "metadata": {},
   "source": [
    "#### Illustrazione del file csv con le previsioni del modello"
   ]
  },
  {
   "cell_type": "code",
   "execution_count": 56,
   "id": "6c1342b2-4581-47e9-aefa-d900f5bff247",
   "metadata": {},
   "outputs": [
    {
     "data": {
      "text/html": [
       "<div>\n",
       "<style scoped>\n",
       "    .dataframe tbody tr th:only-of-type {\n",
       "        vertical-align: middle;\n",
       "    }\n",
       "\n",
       "    .dataframe tbody tr th {\n",
       "        vertical-align: top;\n",
       "    }\n",
       "\n",
       "    .dataframe thead th {\n",
       "        text-align: right;\n",
       "    }\n",
       "</style>\n",
       "<table border=\"1\" class=\"dataframe\">\n",
       "  <thead>\n",
       "    <tr style=\"text-align: right;\">\n",
       "      <th></th>\n",
       "      <th>title</th>\n",
       "      <th>selftext</th>\n",
       "      <th>predictions</th>\n",
       "    </tr>\n",
       "  </thead>\n",
       "  <tbody>\n",
       "    <tr>\n",
       "      <th>0</th>\n",
       "      <td>[PI]Of Supreme Importance</td>\n",
       "      <td>\"\"\"My... what?\"\"&lt;lb&gt;&lt;lb&gt;\"\"Zombie survival plan...</td>\n",
       "      <td>crypto</td>\n",
       "    </tr>\n",
       "    <tr>\n",
       "      <th>1</th>\n",
       "      <td>“Frankly there is absolutely no collusion…Virt...</td>\n",
       "      <td>\"Quote in full:&lt;lb&gt;&lt;lb&gt;\"\"Frankly there is abso...</td>\n",
       "      <td>sports</td>\n",
       "    </tr>\n",
       "    <tr>\n",
       "      <th>2</th>\n",
       "      <td>Hello everyone.. Can you help me to fill this ...</td>\n",
       "      <td>So, I have an assignment to write an essay abo...</td>\n",
       "      <td>crypto</td>\n",
       "    </tr>\n",
       "    <tr>\n",
       "      <th>3</th>\n",
       "      <td>Need some plex help for ultraseedbox</td>\n",
       "      <td>\"Hello,&lt;lb&gt;I wanted to reach out to reddit for...</td>\n",
       "      <td>music</td>\n",
       "    </tr>\n",
       "    <tr>\n",
       "      <th>4</th>\n",
       "      <td>When should you give up?</td>\n",
       "      <td>Is there a point when you just know bass (or a...</td>\n",
       "      <td>hobby</td>\n",
       "    </tr>\n",
       "  </tbody>\n",
       "</table>\n",
       "</div>"
      ],
      "text/plain": [
       "                                               title  \\\n",
       "0                          [PI]Of Supreme Importance   \n",
       "1  “Frankly there is absolutely no collusion…Virt...   \n",
       "2  Hello everyone.. Can you help me to fill this ...   \n",
       "3               Need some plex help for ultraseedbox   \n",
       "4                           When should you give up?   \n",
       "\n",
       "                                            selftext predictions  \n",
       "0  \"\"\"My... what?\"\"<lb><lb>\"\"Zombie survival plan...      crypto  \n",
       "1  \"Quote in full:<lb><lb>\"\"Frankly there is abso...      sports  \n",
       "2  So, I have an assignment to write an essay abo...      crypto  \n",
       "3  \"Hello,<lb>I wanted to reach out to reddit for...       music  \n",
       "4  Is there a point when you just know bass (or a...       hobby  "
      ]
     },
     "execution_count": 56,
     "metadata": {},
     "output_type": "execute_result"
    }
   ],
   "source": [
    "submission = pd.read_csv('submission.csv')\n",
    "submission.head() "
   ]
  },
  {
   "cell_type": "code",
   "execution_count": null,
   "id": "5988889b-514b-42bf-a848-e56c141a440b",
   "metadata": {},
   "outputs": [],
   "source": []
  }
 ],
 "metadata": {
  "kernelspec": {
   "display_name": "Python 3 (ipykernel)",
   "language": "python",
   "name": "python3"
  },
  "language_info": {
   "codemirror_mode": {
    "name": "ipython",
    "version": 3
   },
   "file_extension": ".py",
   "mimetype": "text/x-python",
   "name": "python",
   "nbconvert_exporter": "python",
   "pygments_lexer": "ipython3",
   "version": "3.8.0"
  }
 },
 "nbformat": 4,
 "nbformat_minor": 5
}
